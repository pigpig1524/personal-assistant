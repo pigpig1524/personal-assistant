{
 "cells": [
  {
   "cell_type": "code",
   "execution_count": 1,
   "id": "afe5b3f0",
   "metadata": {},
   "outputs": [
    {
     "name": "stdout",
     "output_type": "stream",
     "text": [
      "✅ Connected to Google Calendar API.\n"
     ]
    }
   ],
   "source": [
    "import sys\n",
    "import os\n",
    "from function import *"
   ]
  },
  {
   "cell_type": "code",
   "execution_count": 2,
   "id": "de974255",
   "metadata": {},
   "outputs": [
    {
     "name": "stdout",
     "output_type": "stream",
     "text": [
      "❌ Event already exists.\n",
      "✅ Event created successfully.\n",
      "🆔 Event ID: qm6hguapadb1m6093gggpe0agc\n",
      "❌ Event already exists.\n",
      "❌ Event already exists.\n",
      "❌ Event already exists.\n"
     ]
    }
   ],
   "source": [
    "create_event(\n",
    "    summary=\"Khai thác dữ liệu và ứng dụng\",\n",
    "    start=\"08-04-2025 07:30:00\",\n",
    "    end=\"08-04-2025 11:00:00\",\n",
    "    location=\"HCMUS F106\",\n",
    "    description=\"GV: Lê Hoài Bắc\"\n",
    ")\n",
    "\n",
    "create_event(\n",
    "    summary=\"Nhập môn học máy\",\n",
    "    start=\"09-04-2025 08:00:00\",\n",
    "    end=\"09-04-2025 11:00:00\",\n",
    "    location=\"HCMUS NĐH 6.7\",\n",
    "    description=\"GV: Bùi Tiến Lên \",\n",
    ")\n",
    "\n",
    "create_event(\n",
    "    summary=\"Công nghệ phần mềm cho trí tuệ nhân tạo\",\n",
    "    start=\"10-04-2025 08:00:00\",\n",
    "    end=\"10-04-2025 11:30:00\",\n",
    "    location=\"HCMUS F207\",\n",
    "    description=\"GV: Nguyễn Văn Vũ\",\n",
    ")\n",
    "\n",
    "create_event(\n",
    "    summary=\"Nhập môn dữ liệu lớn\",\n",
    "    start=\"11-04-2025 12:30:00\",\n",
    "    end=\"11-04-2025 15:30:00\",\n",
    "    location=\"HCMUS F304\",\n",
    "    description=\"GV: Nguyễn Ngọc Thảo\",\n",
    ")\n",
    "\n",
    "create_event(\n",
    "    summary=\"Phân tích dữ liệu thông minh\",\n",
    "    start=\"12-04-2025 13:00:00\",\n",
    "    end=\"12-04-2025 15:00:00\",\n",
    "    location=\"HCMUS F305\",\n",
    "    description=\"GV: Nguyễn Tiến Huy\",\n",
    ")"
   ]
  },
  {
   "cell_type": "code",
   "execution_count": 3,
   "id": "43119c73",
   "metadata": {},
   "outputs": [
    {
     "name": "stdout",
     "output_type": "stream",
     "text": [
      "7-04-2025 00:00:00 13-04-2025 00:00:00\n",
      "5 events found\n",
      "\n",
      "🆔 ID        : t7v3ji31mmun7io38fpi15m7qc\n",
      "📌 Title     : Khai thác dữ liệu và ứng dụng\n",
      "📍 Location  : HCMUS F106\n",
      "📖 Note      : GV: Lê Hoài Bắc\n",
      "🕒 Start     : 08-04-2025 07:30:00\n",
      "🕓 End       : 08-04-2025 11:00:00\n",
      "\n",
      "🆔 ID        : qm6hguapadb1m6093gggpe0agc\n",
      "📌 Title     : Nhập môn học máy\n",
      "📍 Location  : HCMUS NĐH 6.7\n",
      "📖 Note      : GV: Bùi Tiến Lên \n",
      "🕒 Start     : 09-04-2025 08:00:00\n",
      "🕓 End       : 09-04-2025 11:00:00\n",
      "\n",
      "🆔 ID        : clqsotiq55s417p4ucqdrlthuo\n",
      "📌 Title     : Công nghệ phần mềm cho trí tuệ nhân tạo\n",
      "📍 Location  : HCMUS F207\n",
      "📖 Note      : GV: Nguyễn Văn Vũ\n",
      "🕒 Start     : 10-04-2025 08:00:00\n",
      "🕓 End       : 10-04-2025 11:30:00\n",
      "\n",
      "🆔 ID        : ub0vmqndl6fiujvjicvm7jtkrg\n",
      "📌 Title     : Nhập môn dữ liệu lớn\n",
      "📍 Location  : HCMUS F304\n",
      "📖 Note      : GV: Nguyễn Ngọc Thảo\n",
      "🕒 Start     : 11-04-2025 12:30:00\n",
      "🕓 End       : 11-04-2025 15:30:00\n",
      "\n",
      "🆔 ID        : d3e6lnhtm8h6vcinb6uede9uog\n",
      "📌 Title     : Phân tích dữ liệu thông minh\n",
      "📍 Location  : HCMUS F305\n",
      "📖 Note      : GV: Nguyễn Tiến Huy\n",
      "🕒 Start     : 12-04-2025 13:00:00\n",
      "🕓 End       : 12-04-2025 15:00:00\n"
     ]
    }
   ],
   "source": [
    "#All events in week \n",
    "start = '7-04-2025 00:00:00'\n",
    "end = '13-04-2025 00:00:00'\n",
    "\n",
    "events = get_all_events(start, end)\n",
    "print(start,end)\n",
    "print(len(events), \"events found\")\n",
    "display_events(events)"
   ]
  },
  {
   "cell_type": "code",
   "execution_count": 4,
   "id": "9788efe3",
   "metadata": {},
   "outputs": [
    {
     "name": "stdout",
     "output_type": "stream",
     "text": [
      "\n",
      "🆔 ID        : qm6hguapadb1m6093gggpe0agc\n",
      "📌 Title     : Nhập môn học máy\n",
      "📍 Location  : HCMUS NĐH 6.7\n",
      "📖 Note      : GV: Bùi Tiến Lên \n",
      "🕒 Start     : 09-04-2025 08:00:00\n",
      "🕓 End       : 09-04-2025 11:00:00\n"
     ]
    }
   ],
   "source": [
    "title = \"machine learning\"\n",
    "display_events(search_event_by_title(events, title))\n"
   ]
  },
  {
   "cell_type": "code",
   "execution_count": 5,
   "id": "8e0deb77",
   "metadata": {},
   "outputs": [
    {
     "name": "stdout",
     "output_type": "stream",
     "text": [
      "🗑️ Event with ID qm6hguapadb1m6093gggpe0agc deleted successfully.\n"
     ]
    }
   ],
   "source": [
    "#Delete event  example :Nhập môn học máy\n",
    "delete_event(search_event_by_title(events, title)[0]['id'])"
   ]
  },
  {
   "cell_type": "code",
   "execution_count": 6,
   "id": "021226a9",
   "metadata": {},
   "outputs": [
    {
     "name": "stdout",
     "output_type": "stream",
     "text": [
      "Current Time: ('25-04-2025 05:28:19', 'friday')\n",
      "******************************************************************************************************************************************************\n",
      "Prompt: thứ sáu tới  --> Result: ['28-04-2025 00:00:00', '04-05-2025 23:59:59']\n",
      "******************************************************************************************************************************************************\n",
      "Prompt: chủ nhật tuần này  --> Result: ['28-04-2025 00:00:00', '04-05-2025 23:59:59']\n",
      "******************************************************************************************************************************************************\n",
      "Prompt: thứ hai tới  --> Result: ['28-04-2025 00:00:00', '04-05-2025 23:59:59']\n",
      "******************************************************************************************************************************************************\n",
      "Prompt: chiều mai  --> Result: ['28-04-2025 00:00:00', '04-05-2025 23:59:59']\n",
      "******************************************************************************************************************************************************\n",
      "Prompt: sáng thứ ba  --> Result: ['28-04-2025 00:00:00', '04-05-2025 23:59:59']\n",
      "******************************************************************************************************************************************************\n",
      "Prompt: tối hôm kia lúc 7h  --> Result: ['28-04-2025 00:00:00', '04-05-2025 23:59:59']\n",
      "******************************************************************************************************************************************************\n",
      "Prompt: tuần tới  --> Result: ['28-04-2025 00:00:00', '04-05-2025 23:59:59']\n",
      "******************************************************************************************************************************************************\n",
      "Prompt: hôm nay  --> Result: ['28-04-2025 00:00:00', '04-05-2025 23:59:59']\n",
      "******************************************************************************************************************************************************\n",
      "Prompt: ngày mai  --> Result: ['28-04-2025 00:00:00', '04-05-2025 23:59:59']\n",
      "******************************************************************************************************************************************************\n",
      "Prompt: ngày mốt  --> Result: ['28-04-2025 00:00:00', '04-05-2025 23:59:59']\n",
      "******************************************************************************************************************************************************\n",
      "Prompt: ngày kia  --> Result: ['28-04-2025 00:00:00', '04-05-2025 23:59:59']\n",
      "******************************************************************************************************************************************************\n",
      "Prompt: hôm qua  --> Result: ['28-04-2025 00:00:00', '04-05-2025 23:59:59']\n",
      "******************************************************************************************************************************************************\n",
      "Prompt: hôm kia  --> Result: ['28-04-2025 00:00:00', '04-05-2025 23:59:59']\n",
      "******************************************************************************************************************************************************\n",
      "Prompt: tạo lịch họp từ 8 giờ tới 10 giờ   --> Result: ['28-04-2025 00:00:00', '04-05-2025 23:59:59']\n",
      "******************************************************************************************************************************************************\n",
      "Prompt: tạo lịch họp ngày mai lúc 8h  --> Result: ['28-04-2025 00:00:00', '04-05-2025 23:59:59']\n",
      "******************************************************************************************************************************************************\n",
      "Prompt: từ 11h30 tới 12h15  --> Result: ['28-04-2025 00:00:00', '04-05-2025 23:59:59']\n",
      "******************************************************************************************************************************************************\n"
     ]
    }
   ],
   "source": [
    "examples = [\n",
    "    \"thứ sáu tới\",\n",
    "    \"chủ nhật tuần này\",\n",
    "    \"thứ hai tới\",\n",
    "    \"chiều mai\",\n",
    "    \"sáng thứ ba\",\n",
    "    \"tối hôm kia lúc 7h\",\n",
    "    \"tuần tới\",\n",
    "    \"hôm nay\",\n",
    "    \"ngày mai\",\n",
    "    \"ngày mốt\",\n",
    "    \"ngày kia\",\n",
    "    \"hôm qua\",\n",
    "    \"hôm kia\",\n",
    "    \"tạo lịch họp từ 8 giờ tới 10 giờ \",\n",
    "    \"tạo lịch họp ngày mai lúc 8h\",\n",
    "    \"từ 11h30 tới 12h15\"\n",
    "]\n",
    "\n",
    "print(\"Current Time:\", GetInfoDay())\n",
    "print('*'*150)\n",
    "for prompt in examples:\n",
    "    result = extract_time_from_prompt(prompt)\n",
    "    print(f\"Prompt: {prompt}  --> Result: {result}\")\n",
    "    print('*'*150)\n"
   ]
  },
  {
   "cell_type": "code",
   "execution_count": 7,
   "id": "737c560f",
   "metadata": {},
   "outputs": [
    {
     "name": "stdout",
     "output_type": "stream",
     "text": [
      "Prompt: sáng mai đi ngủ  --> Result: ('đi ngủ', '28-04-2025 00:00:00', '04-05-2025 23:59:59', None, None)\n",
      "******************************************************************************************************************************************************\n",
      "Prompt: chiều mai học ml ở nhà  --> Result: ('học ml', '28-04-2025 00:00:00', '04-05-2025 23:59:59', 'nhà', None)\n",
      "******************************************************************************************************************************************************\n",
      "Prompt: tối mai chạy dl ở quán   --> Result: ('chạy dl', '28-04-2025 00:00:00', '04-05-2025 23:59:59', 'quán', None)\n",
      "******************************************************************************************************************************************************\n",
      "Prompt: tuần tới nghỉ lễ không phải đi học  --> Result: ('nghỉ lễ', '28-04-2025 00:00:00', '04-05-2025 23:59:59', None, 'không phải đi học')\n",
      "******************************************************************************************************************************************************\n"
     ]
    }
   ],
   "source": [
    "texts = ['sáng mai đi ngủ',\n",
    "        'chiều mai học ml ở nhà',\n",
    "        'tối mai chạy dl ở quán ',\n",
    "        'tuần tới nghỉ lễ không phải đi học']\n",
    "for text in texts:\n",
    "    result = format_prompt_to_create(text)\n",
    "    print(f\"Prompt: {text}  --> Result: {result}\")\n",
    "    print('*'*150)\n"
   ]
  }
 ],
 "metadata": {
  "kernelspec": {
   "display_name": "env",
   "language": "python",
   "name": "python3"
  },
  "language_info": {
   "codemirror_mode": {
    "name": "ipython",
    "version": 3
   },
   "file_extension": ".py",
   "mimetype": "text/x-python",
   "name": "python",
   "nbconvert_exporter": "python",
   "pygments_lexer": "ipython3",
   "version": "3.12.3"
  }
 },
 "nbformat": 4,
 "nbformat_minor": 5
}
