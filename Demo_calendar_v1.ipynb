{
 "cells": [
  {
   "cell_type": "code",
   "execution_count": 1,
   "id": "afe5b3f0",
   "metadata": {},
   "outputs": [
    {
     "name": "stderr",
     "output_type": "stream",
     "text": [
      "/mnt/e/HCMUS/6/SE/env/lib/python3.12/site-packages/tqdm/auto.py:21: TqdmWarning: IProgress not found. Please update jupyter and ipywidgets. See https://ipywidgets.readthedocs.io/en/stable/user_install.html\n",
      "  from .autonotebook import tqdm as notebook_tqdm\n"
     ]
    },
    {
     "name": "stdout",
     "output_type": "stream",
     "text": [
      "✅ Connected to Google Calendar API.\n"
     ]
    }
   ],
   "source": [
    "import sys\n",
    "import os\n",
    "from function import *"
   ]
  },
  {
   "cell_type": "code",
   "execution_count": 2,
   "id": "de974255",
   "metadata": {},
   "outputs": [
    {
     "name": "stdout",
     "output_type": "stream",
     "text": [
      "✅ Event created successfully.\n",
      "✅ Event created successfully.\n",
      "✅ Event created successfully.\n",
      "✅ Event created successfully.\n",
      "✅ Event created successfully.\n"
     ]
    }
   ],
   "source": [
    "Create_event(\n",
    "    summary=\"Khai thác dữ liệu và ứng dụng\",\n",
    "    start=\"08-04-2025 07:30:00\",\n",
    "    end=\"08-04-2025 11:00:00\",\n",
    "    location=\"HCMUS F106\",\n",
    "    description=\"GV: Lê Hoài Bắc\"\n",
    ")\n",
    "\n",
    "Create_event(\n",
    "    summary=\"Nhập môn học máy\",\n",
    "    start=\"09-04-2025 08:00:00\",\n",
    "    end=\"09-04-2025 11:00:00\",\n",
    "    location=\"HCMUS NĐH 6.7\",\n",
    "    description=\"GV: Bùi Tiến Lên \",\n",
    ")\n",
    "\n",
    "Create_event(\n",
    "    summary=\"Công nghệ phần mềm cho trí tuệ nhân tạo\",\n",
    "    start=\"10-04-2025 08:00:00\",\n",
    "    end=\"10-04-2025 11:30:00\",\n",
    "    location=\"HCMUS F207\",\n",
    "    description=\"GV: Nguyễn Văn Vũ\",\n",
    ")\n",
    "\n",
    "Create_event(\n",
    "    summary=\"Nhập môn dữ liệu lớn\",\n",
    "    start=\"11-04-2025 12:30:00\",\n",
    "    end=\"11-04-2025 15:30:00\",\n",
    "    location=\"HCMUS F304\",\n",
    "    description=\"GV: Nguyễn Ngọc Thảo\",\n",
    ")\n",
    "\n",
    "Create_event(\n",
    "    summary=\"Phân tích dữ liệu thông minh\",\n",
    "    start=\"12-04-2025 13:00:00\",\n",
    "    end=\"12-04-2025 15:00:00\",\n",
    "    location=\"HCMUS F305\",\n",
    "    description=\"GV: Nguyễn Tiến Huy\",\n",
    ")"
   ]
  },
  {
   "cell_type": "code",
   "execution_count": 3,
   "id": "43119c73",
   "metadata": {},
   "outputs": [
    {
     "name": "stdout",
     "output_type": "stream",
     "text": [
      "🆔 ID        : deuclip438dlkhir0s2i2aptic\n",
      "📌 1. Title    : Khai thác dữ liệu và ứng dụng\n",
      "📍 Location : HCMUS F106\n",
      "📖 Note     : GV: Lê Hoài Bắc\n",
      "🕒 Start    : 08-04-2025 07:30:00 \n",
      "🕓 End      : 08-04-2025 11:00:00 \n",
      "------------------------------------------------------------------------------------------------------------------------\n",
      "🆔 ID        : g4nc7i95o4isjg3u9qqbgtbvig\n",
      "📌 2. Title    : Nhập môn học máy\n",
      "📍 Location : HCMUS NĐH 6.7\n",
      "📖 Note     : GV: Bùi Tiến Lên \n",
      "🕒 Start    : 09-04-2025 08:00:00 \n",
      "🕓 End      : 09-04-2025 11:00:00 \n",
      "------------------------------------------------------------------------------------------------------------------------\n",
      "🆔 ID        : o19tfelettls6stue1bqh6617g\n",
      "📌 3. Title    : Công nghệ phần mềm cho trí tuệ nhân tạo\n",
      "📍 Location : HCMUS F207\n",
      "📖 Note     : GV: Nguyễn Văn Vũ\n",
      "🕒 Start    : 10-04-2025 08:00:00 \n",
      "🕓 End      : 10-04-2025 11:30:00 \n",
      "------------------------------------------------------------------------------------------------------------------------\n",
      "🆔 ID        : i95fp89mn073bliu4ma41llg24\n",
      "📌 4. Title    : Nhập môn dữ liệu lớn\n",
      "📍 Location : HCMUS F304\n",
      "📖 Note     : GV: Nguyễn Ngọc Thảo\n",
      "🕒 Start    : 11-04-2025 12:30:00 \n",
      "🕓 End      : 11-04-2025 15:30:00 \n",
      "------------------------------------------------------------------------------------------------------------------------\n",
      "🆔 ID        : cbgt804e32p1ej5m5b8n5ki6ok\n",
      "📌 5. Title    : Phân tích dữ liệu thông minh\n",
      "📍 Location : HCMUS F305\n",
      "📖 Note     : GV: Nguyễn Tiến Huy\n",
      "🕒 Start    : 12-04-2025 13:00:00 \n",
      "🕓 End      : 12-04-2025 15:00:00 \n",
      "------------------------------------------------------------------------------------------------------------------------\n"
     ]
    }
   ],
   "source": [
    "#All events in week \n",
    "start, end = get_this_week_range()\n",
    "events = Search_event_by_range(start, end)\n",
    "Display_events(events)"
   ]
  },
  {
   "cell_type": "code",
   "execution_count": 4,
   "id": "9788efe3",
   "metadata": {},
   "outputs": [
    {
     "name": "stdout",
     "output_type": "stream",
     "text": [
      "🆔 ID        : g4nc7i95o4isjg3u9qqbgtbvig\n",
      "📌 1. Title    : Nhập môn học máy\n",
      "📍 Location : HCMUS NĐH 6.7\n",
      "📖 Note     : GV: Bùi Tiến Lên \n",
      "🕒 Start    : 09-04-2025 08:00:00 \n",
      "🕓 End      : 09-04-2025 11:00:00 \n",
      "------------------------------------------------------------------------------------------------------------------------\n"
     ]
    }
   ],
   "source": [
    "# Search events by title\n",
    "title = \"machine learning\"\n",
    "Display_events(Search_event_by_title(title,events))\n"
   ]
  },
  {
   "cell_type": "code",
   "execution_count": 10,
   "id": "8e0deb77",
   "metadata": {},
   "outputs": [
    {
     "name": "stdout",
     "output_type": "stream",
     "text": [
      "✅ Event with ID g4nc7i95o4isjg3u9qqbgtbvig deleted successfully.\n"
     ]
    }
   ],
   "source": [
    "#Delete event  example :Nhập môn học máy\n",
    "Delete_event('g4nc7i95o4isjg3u9qqbgtbvig')"
   ]
  },
  {
   "cell_type": "code",
   "execution_count": 11,
   "id": "30c29f87",
   "metadata": {},
   "outputs": [
    {
     "name": "stdout",
     "output_type": "stream",
     "text": [
      "📭 No events found.\n"
     ]
    }
   ],
   "source": [
    "start, end = get_this_week_range()\n",
    "events = Search_event_by_range(start, end)\n",
    "title = \"machine learning\"\n",
    "Display_events(Search_event_by_title(title,events))"
   ]
  }
 ],
 "metadata": {
  "kernelspec": {
   "display_name": "env",
   "language": "python",
   "name": "python3"
  },
  "language_info": {
   "codemirror_mode": {
    "name": "ipython",
    "version": 3
   },
   "file_extension": ".py",
   "mimetype": "text/x-python",
   "name": "python",
   "nbconvert_exporter": "python",
   "pygments_lexer": "ipython3",
   "version": "3.12.3"
  }
 },
 "nbformat": 4,
 "nbformat_minor": 5
}
