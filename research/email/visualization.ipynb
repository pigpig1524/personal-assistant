{
 "cells": [
  {
   "cell_type": "markdown",
   "id": "d45451f0",
   "metadata": {},
   "source": [
    "- Tasks\n",
    "    - Collect & Send Emails (Flutter)\n",
    "    - Summarize Emails\n",
    "    - Classify Emails\n",
    "    - Automatic Emails Respond\n",
    "- Deployment Platform: GCP"
   ]
  },
  {
   "cell_type": "markdown",
   "id": "beeb28f0",
   "metadata": {},
   "source": [
    "#### Set Up"
   ]
  },
  {
   "cell_type": "code",
   "execution_count": 1,
   "id": "0690189e",
   "metadata": {},
   "outputs": [
    {
     "name": "stdout",
     "output_type": "stream",
     "text": [
      "The number of EN emails: 1\n",
      "the number of VI emails: 1\n"
     ]
    }
   ],
   "source": [
    "\n",
    "import os\n",
    "import json\n",
    "\n",
    "emails_folder_path = \"data/\"\n",
    "emails_en = []\n",
    "emails_vn = []\n",
    "\n",
    "for filename in os.listdir(emails_folder_path):\n",
    "    if filename.startswith(\"email_en\"):\n",
    "        with open(os.path.join(emails_folder_path, filename), 'r', encoding='utf-8') as f:\n",
    "            emails_en.append(json.load(f))\n",
    "    elif filename.startswith(\"email_vn\"):\n",
    "        with open(os.path.join(emails_folder_path, filename), 'r', encoding='utf-8') as f:\n",
    "            emails_vn.append(json.load(f))\n",
    "print(f\"The number of EN emails: {len(emails_en)}\")\n",
    "print(f\"the number of VI emails: {len(emails_vn)}\")\n",
    "\n",
    "with open(\"data/email_respond_template_1.txt\", \"r\") as f:\n",
    "    email_respond_template = f.read()"
   ]
  },
  {
   "cell_type": "code",
   "execution_count": 2,
   "id": "c222a7e3",
   "metadata": {},
   "outputs": [],
   "source": [
    "from ML import ML\n",
    "from dotenv import load_dotenv\n",
    "\n",
    "load_dotenv()\n",
    "ml = ML(api_key=os.getenv('UPSTAGE_API'))"
   ]
  },
  {
   "cell_type": "markdown",
   "id": "7ec16769",
   "metadata": {},
   "source": [
    "#### Sumamrize Emails"
   ]
  },
  {
   "cell_type": "code",
   "execution_count": 3,
   "id": "d4d6e361",
   "metadata": {},
   "outputs": [
    {
     "data": {
      "text/plain": [
       "'Logitech is introducing the M650 wireless mouse, designed for a modern and productive working environment. Key features include an ergonomic design, SmartWheel technology for precise or fast scrolling, flexible wireless connectivity via Bl'"
      ]
     },
     "execution_count": 3,
     "metadata": {},
     "output_type": "execute_result"
    }
   ],
   "source": [
    "ml.get_email_summarization(subject=emails_en[0]['Subject'], content=emails_en[0]['Content'])"
   ]
  },
  {
   "cell_type": "code",
   "execution_count": 4,
   "id": "0d8814cc",
   "metadata": {},
   "outputs": [
    {
     "data": {
      "text/plain": [
       "'Logitech M650 Mouse는 현대적인 작업 환경에 적합한 무선 마우스로, 자연스러운 손잡이와 SmartWheel 기술을 통해 사용 중 편안함을 제공합니다. Bluetooth 또는 USB 수신기를 통해 여러 장치에 유연하게 연결할'"
      ]
     },
     "execution_count": 4,
     "metadata": {},
     "output_type": "execute_result"
    }
   ],
   "source": [
    "ml.get_email_summarization(subject=emails_vn[0]['Subject'], content=emails_vn[0]['Content'])"
   ]
  },
  {
   "cell_type": "markdown",
   "id": "779cc7f5",
   "metadata": {},
   "source": [
    "#### Classfiy Emails"
   ]
  },
  {
   "cell_type": "code",
   "execution_count": 5,
   "id": "24ff40b4",
   "metadata": {},
   "outputs": [
    {
     "data": {
      "text/plain": [
       "'Promotion'"
      ]
     },
     "execution_count": 5,
     "metadata": {},
     "output_type": "execute_result"
    }
   ],
   "source": [
    "ml.get_email_classification(subject=emails_en[0]['Subject'], content=emails_en[0]['Content'])"
   ]
  },
  {
   "cell_type": "code",
   "execution_count": 6,
   "id": "42abaa3d",
   "metadata": {},
   "outputs": [
    {
     "data": {
      "text/plain": [
       "'Promotion'"
      ]
     },
     "execution_count": 6,
     "metadata": {},
     "output_type": "execute_result"
    }
   ],
   "source": [
    "ml.get_email_classification(subject=emails_vn[0]['Subject'], content=emails_vn[0]['Content'])"
   ]
  },
  {
   "cell_type": "markdown",
   "id": "77e55e69",
   "metadata": {},
   "source": [
    "#### Automatic Respond"
   ]
  },
  {
   "cell_type": "code",
   "execution_count": 7,
   "id": "cb556885",
   "metadata": {},
   "outputs": [
    {
     "data": {
      "text/plain": [
       "{'subject': 'Failed to Process', 'content': 'Failed to Process'}"
      ]
     },
     "execution_count": 7,
     "metadata": {},
     "output_type": "execute_result"
    }
   ],
   "source": [
    "ml.get_email_automatic_respond(subject=emails_en[0]['Subject'], content=emails_en[0]['Content'], template=email_respond_template)"
   ]
  },
  {
   "cell_type": "code",
   "execution_count": 8,
   "id": "6af8b2bb",
   "metadata": {},
   "outputs": [
    {
     "data": {
      "text/plain": [
       "{'subject': 'Failed to Process', 'content': 'Failed to Process'}"
      ]
     },
     "execution_count": 8,
     "metadata": {},
     "output_type": "execute_result"
    }
   ],
   "source": [
    "ml.get_email_automatic_respond(subject=emails_vn[0]['Subject'], content=emails_vn[0]['Content'], template=email_respond_template)"
   ]
  }
 ],
 "metadata": {
  "kernelspec": {
   "display_name": "python-general",
   "language": "python",
   "name": "python3"
  },
  "language_info": {
   "codemirror_mode": {
    "name": "ipython",
    "version": 3
   },
   "file_extension": ".py",
   "mimetype": "text/x-python",
   "name": "python",
   "nbconvert_exporter": "python",
   "pygments_lexer": "ipython3",
   "version": "3.12.9"
  }
 },
 "nbformat": 4,
 "nbformat_minor": 5
}
